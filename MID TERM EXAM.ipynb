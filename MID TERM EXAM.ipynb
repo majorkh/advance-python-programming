{
 "cells": [
  {
   "cell_type": "code",
   "execution_count": 7,
   "id": "9d24b53a",
   "metadata": {},
   "outputs": [
    {
     "name": "stdout",
     "output_type": "stream",
     "text": [
      "enter a string majorkhan\n",
      "n\n",
      "a\n",
      "h\n",
      "k\n",
      "r\n",
      "o\n",
      "j\n",
      "a\n",
      "m\n"
     ]
    }
   ],
   "source": [
    "strr=(input(\"enter a string \"))#given string print in reverse order\n",
    "y=len(strr)-1\n",
    "for i in range (0,y+1):\n",
    "    print(strr[y])\n",
    "    y=y-1"
   ]
  },
  {
   "cell_type": "code",
   "execution_count": 8,
   "id": "50ee0182",
   "metadata": {},
   "outputs": [
    {
     "name": "stdout",
     "output_type": "stream",
     "text": [
      " \n",
      "e\n",
      "c\n",
      "n\n",
      "e\n",
      "i\n",
      "c\n",
      "s\n",
      " \n",
      "r\n",
      "e\n",
      "t\n",
      "u\n",
      "p\n",
      "m\n",
      "o\n",
      "c\n"
     ]
    }
   ],
   "source": [
    "strr=\"computer science \"  # in while loop reverse order \n",
    "y=len(strr)-1\n",
    "while(y>=0):\n",
    "    print(strr[y])\n",
    "    y=y-1\n",
    "    \n"
   ]
  },
  {
   "cell_type": "code",
   "execution_count": 9,
   "id": "545521a3",
   "metadata": {},
   "outputs": [
    {
     "name": "stdout",
     "output_type": "stream",
     "text": [
      "6\n",
      "5\n",
      "4\n",
      "3\n"
     ]
    }
   ],
   "source": [
    "p=[3,4,5,6,] #given list print in reverse order\n",
    "j=len(p)-1\n",
    "while(j>=0):\n",
    "    print(p[j])\n",
    "    j=j-1\n"
   ]
  },
  {
   "cell_type": "code",
   "execution_count": 10,
   "id": "6508a238",
   "metadata": {},
   "outputs": [
    {
     "name": "stdout",
     "output_type": "stream",
     "text": [
      "inter a alphbit\n",
      "  is alphabit\n"
     ]
    }
   ],
   "source": [
    "#check the given character vowel or not\n",
    "vowel=(input(\"inter a alphbit\")) \n",
    "if (vowel==\"a\" or vowel==\"e\" or vowel==\"i\" or vowel==\"o\" or vowel==\"u\"):\n",
    "    print(vowel,\" is vowel\")\n",
    "else:\n",
    "    print(vowel,\" is alphabit\")"
   ]
  },
  {
   "cell_type": "code",
   "execution_count": 11,
   "id": "d63b95e1",
   "metadata": {},
   "outputs": [
    {
     "name": "stdout",
     "output_type": "stream",
     "text": [
      "enter the name =\n",
      "enter the second name=\n",
      "that are plinders\n"
     ]
    }
   ],
   "source": [
    "#chck the given name are plinders or not \n",
    "st=(input(\"enter the name =\"))\n",
    "st2=(input(\"enter the second name=\"))\n",
    "if(st==st2):\n",
    "    print(\"that are plinders\")\n",
    "else :\n",
    "    print(\"that are  not  plinders\")\n",
    "    \n"
   ]
  },
  {
   "cell_type": "code",
   "execution_count": 22,
   "id": "eb8685f7",
   "metadata": {},
   "outputs": [
    {
     "name": "stdout",
     "output_type": "stream",
     "text": [
      "cube of the list is = 4\n",
      "sum of the cube is = 8\n",
      "cube of the list is = 27\n",
      "sum of the cube is = 54\n",
      "cube of the list is = 256\n",
      "sum of the cube is = 512\n",
      "cube of the list is = 3125\n",
      "sum of the cube is = 6250\n"
     ]
    }
   ],
   "source": [
    "#cube of a list\n",
    "def cube(c): \n",
    "    for t in c:\n",
    "        t=t**t\n",
    "        print(\"cube of the list is =\",t)\n",
    "        print(\"sum of the cube is =\",t+t)\n",
    "    #return c\n",
    "c=[2,3,4,5]\n",
    "cube(c)"
   ]
  },
  {
   "cell_type": "code",
   "execution_count": null,
   "id": "b6786fc5",
   "metadata": {
    "collapsed": true
   },
   "outputs": [],
   "source": []
  }
 ],
 "metadata": {
  "kernelspec": {
   "display_name": "Python 3",
   "language": "python",
   "name": "python3"
  },
  "language_info": {
   "codemirror_mode": {
    "name": "ipython",
    "version": 3
   },
   "file_extension": ".py",
   "mimetype": "text/x-python",
   "name": "python",
   "nbconvert_exporter": "python",
   "pygments_lexer": "ipython3",
   "version": "3.8.8"
  }
 },
 "nbformat": 4,
 "nbformat_minor": 5
}
